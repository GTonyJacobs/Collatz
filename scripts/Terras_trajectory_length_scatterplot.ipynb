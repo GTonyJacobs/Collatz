{
  "cells": [
    {
      "cell_type": "markdown",
      "metadata": {
        "id": "N0V8sdYFj_gZ"
      },
      "source": [
        "This program will generate a scatterplot, showing Terras trajectory length (y-axis) versus starting number (x-axis). Simply run the code, and enter a maximum starting value to see the results.\n",
        "\n",
        "Caution: For very large maximum values, it might take a while for the program to execute."
      ]
    },
    {
      "cell_type": "code",
      "execution_count": null,
      "metadata": {
        "id": "hgdyO2-ej_gf"
      },
      "outputs": [],
      "source": [
        "import matplotlib.pyplot as plt\n",
        "\n",
        "def terras_step(n):\n",
        "    if n % 2 == 1:\n",
        "        n = (3 * n + 1) // 2\n",
        "    else:\n",
        "        n //= 2\n",
        "    return n\n",
        "\n",
        "def terras_trajectory_length(n):\n",
        "    counter = 0\n",
        "    while n != 1:\n",
        "        n = terras_step(n)\n",
        "        counter += 1\n",
        "    return(counter)\n",
        "\n",
        "def get_trajectory_lengths(max_seed):\n",
        "    trajectory_lengths = []  # Start with an empty list\n",
        "    for n in range(1, max_seed + 1):\n",
        "        trajectory_lengths.append(terras_trajectory_length(n))  # Append each new length to the list\n",
        "    return trajectory_lengths\n",
        "\n",
        "def make_table(trajectory_lengths):\n",
        "    print(f\"{'n':>5} {'trajectory length':>21}\")\n",
        "    print(\"-\" * 30)\n",
        "    for n in range(1, max_seed + 1):\n",
        "        print(f\"{n:>5} {trajectory_lengths[n-1]:>14}\")  # Use 'n-1' because the first list entry has index 0\n",
        "\n",
        "def dot_size(n):\n",
        "    if n < 500:\n",
        "        return 20\n",
        "    elif n < 5000:\n",
        "        return 10\n",
        "    elif n < 50000:\n",
        "        return 5\n",
        "    elif n < 500000:\n",
        "        return 2\n",
        "    else:\n",
        "        return 1\n",
        "\n",
        "def make_scatterplot(trajectory_lengths):\n",
        "    x_values=[n for n in range(1, len(trajectory_lengths)+1)]\n",
        "    max_length = max(trajectory_lengths)\n",
        "    max_x = trajectory_lengths.index(max_length) + 1\n",
        "    plt.scatter(x_values, trajectory_lengths, s=dot_size(max(x_values)))\n",
        "    plt.xlabel(\"n\")\n",
        "    plt.ylabel(\"trajectory length\")\n",
        "    plt.title(f\"Terras trajectory lengths for the first {len(trajectory_lengths):,} numbers\")\n",
        "\n",
        "    print(f\"The number with the longest trajectory in this range is {max_x}, with {max_length} steps\")\n",
        "    display(plt.gcf())\n",
        "    plt.close()\n",
        "    print()\n",
        "\n",
        "# Input handling\n",
        "try:\n",
        "    n = int(input(\"Enter a positive integer: \"))\n",
        "    if n <= 0:\n",
        "        print(\"Please enter a positive integer.\")\n",
        "    elif n > 500000:\n",
        "        confirm = input(\"Warning: Very large values may take a while to compute. Continue? (y/n): \")\n",
        "        if confirm.lower() == 'y':\n",
        "            if n > 10000:\n",
        "                print(\"Computing trajectories... (this may take a moment)\")\n",
        "            trajectory_lengths = get_trajectory_lengths(n)\n",
        "            make_scatterplot(trajectory_lengths)\n",
        "    else:\n",
        "        if n > 10000:\n",
        "            print(\"Computing trajectories... (this may take a moment)\")\n",
        "        trajectory_lengths = get_trajectory_lengths(n)\n",
        "        make_scatterplot(trajectory_lengths)\n",
        "except ValueError:\n",
        "    print(\"Invalid input. Please enter a positive integer.\")\n"
      ]
    }
  ],
  "metadata": {
    "language_info": {
      "name": "python"
    },
    "colab": {
      "provenance": []
    },
    "kernelspec": {
      "name": "python3",
      "display_name": "Python 3"
    }
  },
  "nbformat": 4,
  "nbformat_minor": 0
}