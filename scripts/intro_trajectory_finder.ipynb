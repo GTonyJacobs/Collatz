{
  "cells": [
    {
      "cell_type": "markdown",
      "metadata": {
        "id": "XTOrZ0GqU-1y"
      },
      "source": [
        "Run the following cell to experiment with the Collatz rule. Enter any positive integer, and see how many steps it takes to reach 1.\n",
        "\n",
        "Can you find a number that takes 100 steps to reach 1? What about 200? What's the longest path to 1 you can find?\n",
        "\n",
        "Are the any numbers whose path lengths you can predict before running them through the program? Is there any pattern, to which numbers have long paths versus short paths?"
      ]
    },
    {
      "cell_type": "code",
      "execution_count": null,
      "metadata": {
        "id": "V7nyca-tU-13"
      },
      "outputs": [],
      "source": [
        "def collatz_step(n):\n",
        "    if n % 2 == 1:\n",
        "        n = 3 * n + 1\n",
        "    else:\n",
        "        n //= 2\n",
        "    return n\n",
        "\n",
        "def collatz_trajectory(seed):\n",
        "    counter = 0\n",
        "    n = seed\n",
        "    n_max = n\n",
        "    print()\n",
        "    print(f\"C:\", end = \"\")\n",
        "    while n != 1:\n",
        "        print(n, end=\" → \")\n",
        "        n = collatz_step(n)\n",
        "        n_max = max(n_max, n)\n",
        "        counter += 1\n",
        "        if counter % 20 == 0:\n",
        "            print()\n",
        "    print(1)  # End of trajectory\n",
        "    print()\n",
        "    print(f\"The trajectory of {seed} reached 1 in {counter} steps. The largest number seen along the way was {n_max}.\")\n",
        "    print(f\"{'-' * 120}\")\n",
        "\n",
        "# Input handling\n",
        "while True:\n",
        "    try:\n",
        "        n = input(\"Enter a positive integer, or 'q' to quit: \")\n",
        "        if n == 'q':\n",
        "            break\n",
        "        n = int(n)\n",
        "        if n <= 0:\n",
        "            print(\"Please enter a positive integer.\")\n",
        "            continue\n",
        "        collatz_trajectory(n)\n",
        "    except ValueError:\n",
        "        print(\"Invalid input. Please enter a positive integer.\")"
      ]
    },
    {
      "cell_type": "markdown",
      "metadata": {
        "id": "huczEO-eU-16"
      },
      "source": [
        "After seeing some trajectories, what would you like to do next?\n",
        "\n",
        "* [Visualize trajectory lengths for a range of starting values](https://colab.research.google.com/github/GTonyJacobs/Collatz/blob/main/scripts/Collatz_trajectory_length_scatterplot.ipynb)\n",
        "* Explore the most \"extreme\" trajectories: Longest, highest, baddest! (coming soon!)\n",
        "* Consider more efficient ways to move along a trajectory (coming soon!)\n",
        "* Look at one approach to actually proving this conjecture (coming soon!)"
      ]
    }
  ],
  "metadata": {
    "kernelspec": {
      "display_name": "Python 3",
      "language": "python",
      "name": "python3"
    },
    "language_info": {
      "codemirror_mode": {
        "name": "ipython",
        "version": 3
      },
      "file_extension": ".py",
      "mimetype": "text/x-python",
      "name": "python",
      "nbconvert_exporter": "python",
      "pygments_lexer": "ipython3",
      "version": "3.13.1"
    },
    "colab": {
      "provenance": []
    }
  },
  "nbformat": 4,
  "nbformat_minor": 0
}