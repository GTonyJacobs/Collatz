{
 "cells": [
  {
   "cell_type": "markdown",
   "metadata": {},
   "source": [
    "Run the following cell to see trajectories of starting numbers under the Terras map, which reformulates the Collatz map to combine each odd step with the following even step.\n",
    "\n",
    "How much shorter are Terras trajectories compared to Collatz trajectories?"
   ]
  },
  {
   "cell_type": "code",
   "execution_count": null,
   "metadata": {},
   "outputs": [],
   "source": [
    "def terras_step(n):\n",
    "    if n % 2 == 1:\n",
    "        n = (3 * n + 1) // 2\n",
    "    else:\n",
    "        n //= 2\n",
    "    return n\n",
    "\n",
    "def terras_trajectory(seed):\n",
    "    counter = 0\n",
    "    n = seed\n",
    "    n_max = n\n",
    "    print(f\"T:\", end=\"\")\n",
    "    while n != 1:\n",
    "        print(n, end=\" → \")\n",
    "        n = terras_step(n)\n",
    "        n_max = max(n_max, n)\n",
    "        counter += 1\n",
    "        if counter % 20 == 0:\n",
    "            print()\n",
    "    print(1)  # End of trajectory\n",
    "    print(f\"The trajectory of {seed} reached 1 in {counter} steps. The largest number seen along the way was {n_max}.\")\n",
    "\n",
    "# Input handling\n",
    "while True:\n",
    "    try:\n",
    "        n = input(\"Enter a positive integer, or 'q' to quit: \")\n",
    "        if n == 'q':\n",
    "            break\n",
    "        n = int(n)\n",
    "        if n <= 0:\n",
    "            print(\"Please enter a positive integer.\")\n",
    "            continue\n",
    "        terras_trajectory(n)\n",
    "    except ValueError:\n",
    "        print(\"Invalid input. Please enter a positive integer.\")"
   ]
  },
  {
   "cell_type": "markdown",
   "metadata": {},
   "source": [
    "* Trajectory Finders\n",
    "  * Collatz Trajectory Finder: [![Collatz Trajectory Finder](https://colab.research.google.com/assets/colab-badge.svg)](../scripts/intro_trajectory_finder.ipynb)\n",
    "  * Syracuse Trajectory Finder: [![Syracuse Trajectory Finder](https://colab.research.google.com/assets/colab-badge.svg)](../scripts/Syracuse_trajectory_finder.ipynb)\n",
    "* Trajectory Length Scatterplots\n",
    "  * Collatz Trajectory Length Scatterplot: [![Collatz Trajectory Length Scatterplot](https://colab.research.google.com/assets/colab-badge.svg)](../scripts/Collatz_trajectory_length_scatterplot)\n",
    "  * Terras Trajectory Length Scatterplot: [![Terras Trajectory Length Scatterplot](https://colab.research.google.com/assets/colab-badge.svg)](../scripts/Terras_trajectory_length_scatterplot)\n",
    "  * Syracuse Trajectory Length Scatterplot: [![Syracuse Trajectory Length Scatterplot](https://colab.research.google.com/assets/colab-badge.svg)](../scripts/Syracuse_trajectory_length_scatterplot)\n",
    " \n",
    "[Rerturn to Main Menu](../README.md)"
   ]
  }
 ],
 "metadata": {
  "language_info": {
   "name": "python"
  }
 },
 "nbformat": 4,
 "nbformat_minor": 2
}
