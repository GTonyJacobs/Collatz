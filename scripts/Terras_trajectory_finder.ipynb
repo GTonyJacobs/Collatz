{
  "cells": [
    {
      "cell_type": "markdown",
      "metadata": {
        "id": "V5cSc8qoRad4"
      },
      "source": [
        "Run the following cell to see trajectories of starting numbers under the Terras map, which reformulates the Collatz map to combine each odd step with the following even step.\n",
        "\n",
        "How much shorter are Terras trajectories compared to Collatz trajectories?"
      ]
    },
    {
      "cell_type": "code",
      "execution_count": 6,
      "metadata": {
        "id": "scrjTeocRad9",
        "outputId": "37279ded-0237-4ec1-d81c-e2c1b76b0df2",
        "colab": {
          "base_uri": "https://localhost:8080/"
        }
      },
      "outputs": [
        {
          "name": "stdout",
          "output_type": "stream",
          "text": [
            "Enter a positive integer, or 'q' to quit: 111\n",
            "\n",
            "T:111 → 167 → 251 → 377 → 566 → 283 → 425 → 638 → 319 → 479 → 719 → 1079 → 1619 → 2429 → 3644 → 1822 → 911 → 1367 → 2051 → 3077 → \n",
            "4616 → 2308 → 1154 → 577 → 866 → 433 → 650 → 325 → 488 → 244 → 122 → 61 → 92 → 46 → 23 → 35 → 53 → 80 → 40 → 20 → \n",
            "10 → 5 → 8 → 4 → 2 → 1\n",
            "\n",
            "The trajectory of 111 reached 1 in 45 steps. The largest number seen along the way was 4616.\n",
            "------------------------------------------------------------------------------------------------------------------------\n",
            "Enter a positive integer, or 'q' to quit: 113\n",
            "\n",
            "T:113 → 170 → 85 → 128 → 64 → 32 → 16 → 8 → 4 → 2 → 1\n",
            "\n",
            "The trajectory of 113 reached 1 in 10 steps. The largest number seen along the way was 170.\n",
            "------------------------------------------------------------------------------------------------------------------------\n",
            "Enter a positive integer, or 'q' to quit: 115\n",
            "\n",
            "T:115 → 173 → 260 → 130 → 65 → 98 → 49 → 74 → 37 → 56 → 28 → 14 → 7 → 11 → 17 → 26 → 13 → 20 → 10 → 5 → \n",
            "8 → 4 → 2 → 1\n",
            "\n",
            "The trajectory of 115 reached 1 in 23 steps. The largest number seen along the way was 260.\n",
            "------------------------------------------------------------------------------------------------------------------------\n",
            "Enter a positive integer, or 'q' to quit: 117\n",
            "\n",
            "T:117 → 176 → 88 → 44 → 22 → 11 → 17 → 26 → 13 → 20 → 10 → 5 → 8 → 4 → 2 → 1\n",
            "\n",
            "The trajectory of 117 reached 1 in 15 steps. The largest number seen along the way was 176.\n",
            "------------------------------------------------------------------------------------------------------------------------\n",
            "Enter a positive integer, or 'q' to quit: 119\n",
            "\n",
            "T:119 → 179 → 269 → 404 → 202 → 101 → 152 → 76 → 38 → 19 → 29 → 44 → 22 → 11 → 17 → 26 → 13 → 20 → 10 → 5 → \n",
            "8 → 4 → 2 → 1\n",
            "\n",
            "The trajectory of 119 reached 1 in 23 steps. The largest number seen along the way was 404.\n",
            "------------------------------------------------------------------------------------------------------------------------\n",
            "Enter a positive integer, or 'q' to quit: 121\n",
            "\n",
            "T:121 → 182 → 91 → 137 → 206 → 103 → 155 → 233 → 350 → 175 → 263 → 395 → 593 → 890 → 445 → 668 → 334 → 167 → 251 → 377 → \n",
            "566 → 283 → 425 → 638 → 319 → 479 → 719 → 1079 → 1619 → 2429 → 3644 → 1822 → 911 → 1367 → 2051 → 3077 → 4616 → 2308 → 1154 → 577 → \n",
            "866 → 433 → 650 → 325 → 488 → 244 → 122 → 61 → 92 → 46 → 23 → 35 → 53 → 80 → 40 → 20 → 10 → 5 → 8 → 4 → \n",
            "2 → 1\n",
            "\n",
            "The trajectory of 121 reached 1 in 61 steps. The largest number seen along the way was 4616.\n",
            "------------------------------------------------------------------------------------------------------------------------\n",
            "Enter a positive integer, or 'q' to quit: 123\n",
            "\n",
            "T:123 → 185 → 278 → 139 → 209 → 314 → 157 → 236 → 118 → 59 → 89 → 134 → 67 → 101 → 152 → 76 → 38 → 19 → 29 → 44 → \n",
            "22 → 11 → 17 → 26 → 13 → 20 → 10 → 5 → 8 → 4 → 2 → 1\n",
            "\n",
            "The trajectory of 123 reached 1 in 31 steps. The largest number seen along the way was 314.\n",
            "------------------------------------------------------------------------------------------------------------------------\n",
            "Enter a positive integer, or 'q' to quit: q\n"
          ]
        }
      ],
      "source": [
        "def terras_step(n):\n",
        "    if n % 2 == 1:\n",
        "        n = (3 * n + 1) // 2\n",
        "    else:\n",
        "        n //= 2\n",
        "    return n\n",
        "\n",
        "def terras_trajectory(seed):\n",
        "    counter = 0\n",
        "    n = seed\n",
        "    n_max = n\n",
        "    print(f\"\\nT:\", end=\"\")\n",
        "    while n != 1:\n",
        "        print(n, end=\" → \")\n",
        "        n = terras_step(n)\n",
        "        n_max = max(n_max, n)\n",
        "        counter += 1\n",
        "        if counter % 20 == 0:\n",
        "            print()\n",
        "    print(1)  # End of trajectory\n",
        "    print(f\"\\nThe trajectory of {seed} reached 1 in {counter} steps. The largest number seen along the way was {n_max}.\")\n",
        "    print(f\"{'-' * 120}\")\n",
        "\n",
        "# Input handling\n",
        "while True:\n",
        "    try:\n",
        "        n = input(\"Enter a positive integer, or 'q' to quit: \")\n",
        "        if n == 'q':\n",
        "            break\n",
        "        n = int(n)\n",
        "        if n <= 0:\n",
        "            print(\"Please enter a positive integer.\")\n",
        "            continue\n",
        "        terras_trajectory(n)\n",
        "    except ValueError:\n",
        "        print(\"Invalid input. Please enter a positive integer.\")"
      ]
    },
    {
      "cell_type": "markdown",
      "metadata": {
        "id": "djP810M1RaeA"
      },
      "source": [
        "* Trajectory Finders\n",
        "  * Collatz Trajectory Finder: [![Collatz Trajectory Finder](https://colab.research.google.com/assets/colab-badge.svg)](https://colab.research.google.com/github/GTonyJacobs/Collatz/blob/main/scripts/intro_trajectory_finder.ipynb)\n",
        "  * Syracuse Trajectory Finder: [![Syracuse Trajectory Finder](https://colab.research.google.com/assets/colab-badge.svg)](https://colab.research.google.com/github/GTonyJacobs/Collatz/blob/main/scripts/Syracuse_trajectory_finder.ipynb)\n",
        "* Trajectory Length Scatterplots\n",
        "  * Collatz Trajectory Length Scatterplot: [![Collatz Trajectory Length Scatterplot](https://colab.research.google.com/assets/colab-badge.svg)](https://colab.research.google.com/github/GTonyJacobs/Collatz/blob/main/scripts/Collatz_trajectory_length_scatterplot)\n",
        "  * Terras Trajectory Length Scatterplot: [![Terras Trajectory Length Scatterplot](https://colab.research.google.com/assets/colab-badge.svg)](https://colab.research.google.com/github/GTonyJacobs/Collatz/blob/main/scripts/Terras_trajectory_length_scatterplot)\n",
        "  * Syracuse Trajectory Length Scatterplot: [![Syracuse Trajectory Length Scatterplot](https://colab.research.google.com/assets/colab-badge.svg)](https://colab.research.google.com/github/GTonyJacobs/Collatz/blob/main/scripts/Syracuse_trajectory_length_scatterplot)\n",
        "\n",
        "[Rerturn to Main Menu](../README.md)"
      ]
    }
  ],
  "metadata": {
    "language_info": {
      "name": "python"
    },
    "colab": {
      "provenance": []
    },
    "kernelspec": {
      "name": "python3",
      "display_name": "Python 3"
    }
  },
  "nbformat": 4,
  "nbformat_minor": 0
}