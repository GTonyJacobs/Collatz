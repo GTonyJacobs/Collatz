{
  "cells": [
    {
      "cell_type": "markdown",
      "metadata": {
        "id": "eaM3isAySaVV"
      },
      "source": [
        "Run the following cell to see trajectories of starting numbers under the Syracuse map, which reformulates the Collatz map to go directly from one odd number to the next, combining an odd step with all even steps that immediately follow it. Also displayed here are the number of divisions by 2 carried out at each step, in a vector of $$v$$'s.\n",
        "\n",
        "How much shorter are Syracuse trajectories compared to Collatz and Terras trajectories? Notice the trade-off between efficiency and the disappearance of certain information. If we didn't compute and display the $$v$$-vector, how could you recover the information in it?"
      ]
    },
    {
      "cell_type": "code",
      "execution_count": null,
      "metadata": {
        "id": "WhSDC4siSaVa"
      },
      "outputs": [],
      "source": [
        "def syracuse_step(n):\n",
        "    n = 3 * n + 1\n",
        "    v2 = (n & -n).bit_length() - 1  # This line counts trailing 0's in the binary representation of n\n",
        "    n >>= v2  # This line truncates trailing 0's by right-shifting n, by v2 bits. This is the same as dividing by 2, v2 times\n",
        "    return n,v2\n",
        "\n",
        "def print_trajectory(seed, counter, n_max, trajectory, v2_vector):\n",
        "    print()\n",
        "    print(f\"S: \", end=\"\")\n",
        "    for i in range(len(trajectory) - 1):\n",
        "        print(trajectory[i], end=\" → \")\n",
        "        if (i + 1) % 20 == 0:\n",
        "            print()\n",
        "            print(f\"{' ' * 3}\", end=\"\")\n",
        "    print(1)\n",
        "    print(\"\\n\"\n",
        "          f\"[v] = \", end=\"\")\n",
        "    for i in range(len(v2_vector) - 1):\n",
        "        print(v2_vector[i], end=\", \")\n",
        "        if (i+1) % 20 == 0:\n",
        "            print()\n",
        "            print(f\"{' ' * 6}\", end=\"\")\n",
        "    print(f\"{v2_vector[-1]}]\"\n",
        "          f\"\\n\")\n",
        "    print(f\"The trajectory of {seed} reached 1 in {counter} step{'' if counter == 1 else 's'}. The largest number seen along the way was {n_max}.\")\n",
        "    print(f\"{'-' * 120}\")    \n",
        "\n",
        "def syracuse_trajectory(seed):\n",
        "    counter = 0\n",
        "    n = seed\n",
        "    n_max = n\n",
        "    trajectory = []\n",
        "    v2_vector = []\n",
        "    while n != 1:\n",
        "        trajectory.append(n)  # Keep trajectory in memory to print at the end\n",
        "        n, v2 = syracuse_step(n)\n",
        "        v2_vector.append(v2)  # Keep vector of exponents in memory\n",
        "        n_max = max(n_max, n)\n",
        "        counter += 1\n",
        "    trajectory.append(1)  # End of trajectory\n",
        "    print_trajectory(seed, counter, n_max, trajectory, v2_vector)\n",
        "\n",
        "# Input handling\n",
        "while True:\n",
        "    try:\n",
        "        n = input(\"Enter an odd positive integer, or 'q' to quit: \")\n",
        "        if n == 'q':\n",
        "            break\n",
        "        n = int(n)\n",
        "        if n <= 0 or n % 2 == 0:\n",
        "            print(\"Please enter an odd positive integer.\")\n",
        "            continue\n",
        "        syracuse_trajectory(n)\n",
        "    except ValueError:\n",
        "        print(\"Invalid input. Please enter an odd positive integer.\")\n"
      ]
    },
    {
      "cell_type": "markdown",
      "metadata": {
        "id": "wdxx7pCTSaVc"
      },
      "source": [
        "* Trajectory Finders\n",
        "  * Collatz Trajectory Finder: [![Collatz Trajectory Finder](https://colab.research.google.com/assets/colab-badge.svg)](https://colab.research.google.com/github/GTonyJacobs/Collatz/blob/main/scripts/intro_trajectory_finder.ipynb)\n",
        "  * Terras Trajectory Finder: [![Terras Trajectory Finder](https://colab.research.google.com/assets/colab-badge.svg)](https://colab.research.google.com/github/GTonyJacobs/Collatz/blob/main/scripts/Terras_trajectory_finder.ipynb)\n",
        "* Trajectory Length Scatterplots\n",
        "  * Collatz Trajectory Length Scatterplot: [![Collatz Trajectory Length Scatterplot](https://colab.research.google.com/assets/colab-badge.svg)](https://colab.research.google.com/github/GTonyJacobs/Collatz/blob/main/scripts/Collatz_trajectory_length_scatterplot)\n",
        "  * Terras Trajectory Length Scatterplot: [![Terras Trajectory Length Scatterplot](https://colab.research.google.com/assets/colab-badge.svg)](https://colab.research.google.com/github/GTonyJacobs/Collatz/blob/main/scripts/Terras_trajectory_length_scatterplot)\n",
        "  * Syracuse Trajectory Length Scatterplot: [![Syracuse Trajectory Length Scatterplot](https://colab.research.google.com/assets/colab-badge.svg)](https://colab.research.google.com/github/GTonyJacobs/Collatz/blob/main/scripts/Syracuse_trajectory_length_scatterplot)\n",
        "\n",
        "[Rerturn to Main Menu](../README.md)"
      ]
    }
  ],
  "metadata": {
    "colab": {
      "provenance": []
    },
    "kernelspec": {
      "display_name": "Python 3",
      "name": "python3"
    },
    "language_info": {
      "name": "python"
    }
  },
  "nbformat": 4,
  "nbformat_minor": 0
}
