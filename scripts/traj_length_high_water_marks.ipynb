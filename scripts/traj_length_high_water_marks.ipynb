{
  "cells": [
    {
      "cell_type": "markdown",
      "metadata": {
        "id": "qTespRSsGdeD"
      },
      "source": [
        "Run the following code cell to explore *longest* trajectories.\n",
        "\n",
        "This program will run through seed values, starting with 1 and going through every odd positive integer less than 500,000. Every time a seed is encountered with a longer trajectory than any previous seed, it will be added to the record list.\n",
        "\n",
        "You may choose to explore this trajectory measurement using any of the three formulations: Collatz, Terras, or Syracuse, or you may look at all three side-by-side."
      ]
    },
    {
      "cell_type": "code",
      "execution_count": null,
      "metadata": {
        "id": "rMAb0Q5yGdeK"
      },
      "outputs": [],
      "source": [
        "import requests\n",
        "import csv\n",
        "from io import StringIO\n",
        "\n",
        "perspectives = {\n",
        "  'C': {'length': lambda r: int(r['odd_steps']) + int(r['even_steps']),\n",
        "        'max': lambda r: 3 * int(r['traj_max']) + 1,\n",
        "        'header': 'C-Trajectory'},\n",
        "  'T': {'length': lambda r: int(r['even_steps']),\n",
        "        'max': lambda r: (3 * int(r['traj_max']) + 1) // 2,\n",
        "        'header': 'T-Trajectory'},\n",
        "  'S': {'length': lambda r: int(r['odd_steps']),\n",
        "        'max': lambda r: int(r['traj_max']),\n",
        "        'header': 'S-Trajectory'}\n",
        "}\n",
        "\n",
        "def print_headers(perspective):\n",
        "    print(f\"{'seed':^15}\", end=\"\")\n",
        "    if perspective in {1,4}:\n",
        "      print(f\"{perspectives['C']['header'] + ' length':^24}\", end=\"\")\n",
        "    if perspective in {2,4}:\n",
        "      print(f\"{perspectives['T']['header'] + ' length':^24}\", end=\"\")\n",
        "    if perspective in {3,4}:\n",
        "      print(f\"{perspectives['S']['header'] + ' length':^24}\", end=\"\")\n",
        "    if perspective in {1,4}:\n",
        "      print(f\"{perspectives['C']['header'] + ' max':^20}\", end=\"\")\n",
        "    if perspective in {2,4}:\n",
        "      print(f\"{perspectives['T']['header'] + ' max':^20}\", end=\"\")\n",
        "    if perspective in {3,4}:\n",
        "      print(f\"{perspectives['S']['header'] + ' max':^20}\", end=\"\")\n",
        "    print()\n",
        "    if perspective == 4:\n",
        "      print(f\"{'-' * 150}\")\n",
        "    else:\n",
        "      print(f\"{'-' * 60}\")\n",
        "\n",
        "def print_data(row, perspective):\n",
        "    print(f\"{int(row['seed']):>8}\", end=\"\")\n",
        "    if perspective in {1,4}:\n",
        "      print(f\"{perspectives['C']['length'](row):>24}\", end=\"\")\n",
        "    if perspective in {2,4}:\n",
        "      print(f\"{perspectives['T']['length'](row):>24}\", end=\"\")\n",
        "    if perspective in {3,4}:\n",
        "      print(f\"{perspectives['S']['length'](row):>24}\", end=\"\")\n",
        "    if perspective in {1,4}:\n",
        "      print(f\"{perspectives['C']['max'](row):>20}\", end=\"\")\n",
        "    if perspective in {2,4}:\n",
        "      print(f\"{perspectives['T']['max'](row):>20}\", end=\"\")\n",
        "    if perspective in {3,4}:\n",
        "      print(f\"{perspectives['S']['max'](row):>20}\", end=\"\")\n",
        "    print()\n",
        "\n",
        "\n",
        "url = 'https://raw.githubusercontent.com/GTonyJacobs/Collatz/main/data/denom_1_numer_-500000_500000.csv'\n",
        "response = requests.get(url)\n",
        "csvfile = StringIO(response.text)\n",
        "reader = csv.DictReader(csvfile)\n",
        "perspective = 4\n",
        "high_water = 0\n",
        "print_headers(perspective)\n",
        "for row in reader:\n",
        "    if int(row['seed'])<0:\n",
        "        continue\n",
        "    if int(row['odd_steps']) + int(row['even_steps']) > high_water:\n",
        "        high_water = int(row['odd_steps']) + int(row['even_steps'])\n",
        "        print_data(row, perspective)\n",
        "\n"
      ]
    }
  ],
  "metadata": {
    "kernelspec": {
      "display_name": "Python 3",
      "language": "python",
      "name": "python3"
    },
    "language_info": {
      "codemirror_mode": {
        "name": "ipython",
        "version": 3
      },
      "file_extension": ".py",
      "mimetype": "text/x-python",
      "name": "python",
      "nbconvert_exporter": "python",
      "pygments_lexer": "ipython3",
      "version": "3.13.1"
    },
    "colab": {
      "provenance": []
    }
  },
  "nbformat": 4,
  "nbformat_minor": 0
}