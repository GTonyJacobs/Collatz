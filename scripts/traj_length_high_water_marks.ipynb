{
  "cells": [
    {
      "cell_type": "markdown",
      "metadata": {
        "id": "qTespRSsGdeD"
      },
      "source": [
        "Run the following code cell to explore *longest* trajectories.\n",
        "\n",
        "This program will run through seed values, starting with 1 and going through every odd positive integer less than 500,000. Every time a seed is encountered with a longer trajectory than any previous seed, it will be added to the record list.\n",
        "\n",
        "You may choose to explore this trajectory measurement using any of the three formulations: Collatz, Terras, or Syracuse, or you may look at all three side-by-side."
      ]
    },
    {
      "cell_type": "code",
      "execution_count": null,
      "metadata": {
        "id": "rMAb0Q5yGdeK"
      },
      "outputs": [],
      "source": [
        "import csv\n",
        "\n",
        "with open('data/denom_1_numer_-500000_500000.csv', 'r') as f:\n",
        "    reader = csv.DictReader(f)\n",
        "    high_water = 0\n",
        "    print(f\"{'seed':^15}{'C-Trajectory length':^24}{'Trajectory max':^16}\")\n",
        "    print(f\"{'-' * 60}\")\n",
        "    for row in reader:\n",
        "        if int(row['seed'])<0:\n",
        "            continue\n",
        "        if int(row['odd_steps']) + int(row['even_steps']) > high_water:\n",
        "            high_water = int(row['odd_steps']) + int(row['even_steps'])\n",
        "            print(f\"{row['seed']:>10}{high_water:>24}{row['traj_max']:>16}\")"
      ]
    }
  ],
  "metadata": {
    "kernelspec": {
      "display_name": "Python 3",
      "language": "python",
      "name": "python3"
    },
    "language_info": {
      "codemirror_mode": {
        "name": "ipython",
        "version": 3
      },
      "file_extension": ".py",
      "mimetype": "text/x-python",
      "name": "python",
      "nbconvert_exporter": "python",
      "pygments_lexer": "ipython3",
      "version": "3.13.1"
    },
    "colab": {
      "provenance": []
    }
  },
  "nbformat": 4,
  "nbformat_minor": 0
}